{
  "nbformat": 4,
  "nbformat_minor": 0,
  "metadata": {
    "colab": {
      "name": "jp2016-2020.ipynb",
      "provenance": [],
      "collapsed_sections": [],
      "toc_visible": true,
      "authorship_tag": "ABX9TyPFZh/nY0Fqk6xda1hW1Pbm",
      "include_colab_link": true
    },
    "kernelspec": {
      "name": "ir",
      "display_name": "R"
    },
    "language_info": {
      "name": "python"
    }
  },
  "cells": [
    {
      "cell_type": "markdown",
      "metadata": {
        "id": "view-in-github",
        "colab_type": "text"
      },
      "source": [
        "<a href=\"https://colab.research.google.com/github/u-10bei/Population_Projections/blob/main/jp2016_2020.ipynb\" target=\"_parent\"><img src=\"https://colab.research.google.com/assets/colab-badge.svg\" alt=\"Open In Colab\"/></a>"
      ]
    },
    {
      "cell_type": "markdown",
      "source": [
        "目的：日本の将来人口を、Ｒを使って推計してみます。"
      ],
      "metadata": {
        "id": "Mj0z2pE14ZER"
      }
    },
    {
      "cell_type": "markdown",
      "source": [
        "# １　データの収集"
      ],
      "metadata": {
        "id": "meG6zifJmTut"
      }
    },
    {
      "cell_type": "markdown",
      "source": [
        "\n",
        "*  [各年１０月１日人口](https://raw.githubusercontent.com/u-10bei/Population_Projections/main/population_jp.csv)： [「人口推計」（総務省統計局）](https://www.stat.go.jp/data/jinsui/2.html)を加工して作成しました。\n"
      ],
      "metadata": {
        "id": "ggATNXWAmj8j"
      }
    },
    {
      "cell_type": "code",
      "source": [
        "# ライブラリの読み込み\n",
        " library(readr)\n",
        "\n",
        "# 該当ＵＲＬを変数に格納\n",
        "c(\"https://raw.githubusercontent.com/u-10bei/Population_Projections/main/population_jp.csv\") -> popURL\n",
        "\n",
        "# ネット上のファイル読み込み\n",
        "popURL |> read_csv(show_col_types = FALSE) -> pop_csv"
      ],
      "metadata": {
        "id": "jMgVHEDum81B"
      },
      "execution_count": 2,
      "outputs": []
    },
    {
      "cell_type": "markdown",
      "source": [
        "# ２　ボックス・ジェンキンス法による分析"
      ],
      "metadata": {
        "id": "Pqj4tc7rwqEY"
      }
    },
    {
      "cell_type": "markdown",
      "source": [
        "　手始めに、総人口のデータをボックス・ジェンキンス法で分析してみます。\n"
      ],
      "metadata": {
        "id": "aOYclrkowvkJ"
      }
    }
  ]
}